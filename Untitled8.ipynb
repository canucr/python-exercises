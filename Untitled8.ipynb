{
 "cells": [
  {
   "cell_type": "markdown",
   "id": "55f13f23",
   "metadata": {},
   "source": [
    "# write a code to reverse a number"
   ]
  },
  {
   "cell_type": "code",
   "execution_count": 6,
   "id": "eaf90c43",
   "metadata": {},
   "outputs": [
    {
     "name": "stdout",
     "output_type": "stream",
     "text": [
      "Enter a number123\n",
      "Given number is 123 and reverse is 321\n"
     ]
    }
   ],
   "source": [
    "num= int(input(\"Enter a number\"))\n",
    "temp=num\n",
    "reverse=0\n",
    "\n",
    "while num>0:\n",
    "    reminder = num%10\n",
    "    reverse = (reverse*10) + reminder\n",
    "    num = num //10\n",
    "print(\"Given number is {} and reverse is {}\".format(temp,reverse))\n"
   ]
  },
  {
   "cell_type": "markdown",
   "id": "6946ba24",
   "metadata": {},
   "source": [
    "# Write the code to find the Fibonacci series upto the nth term."
   ]
  },
  {
   "cell_type": "code",
   "execution_count": 14,
   "id": "46df2bab",
   "metadata": {},
   "outputs": [
    {
     "name": "stdout",
     "output_type": "stream",
     "text": [
      "enter a number7\n",
      "fibonacci series 0 1 1 2 3 5 8 "
     ]
    }
   ],
   "source": [
    "num = int(input(\"enter a number\"))\n",
    "n1,n2 = 0,1\n",
    "print(\"fibonacci series\", n1, n2, end=\" \")\n",
    "for i in range(2,num):\n",
    "    n3=n1+n2\n",
    "    n1=n2\n",
    "    n2=n3\n",
    "    print(n3, end=\" \")"
   ]
  },
  {
   "cell_type": "markdown",
   "id": "4679d89d",
   "metadata": {},
   "source": [
    "# write code of greatest common divisor\n"
   ]
  },
  {
   "cell_type": "code",
   "execution_count": 20,
   "id": "51f50d76",
   "metadata": {},
   "outputs": [
    {
     "name": "stdout",
     "output_type": "stream",
     "text": [
      "enter first number25\n",
      "enter second number45\n",
      "GCD of number:5\n"
     ]
    }
   ],
   "source": [
    "num1 = int(input(\"enter first number\"))\n",
    "num2 = int(input(\"enter second number\"))\n",
    "\n",
    "def gcdFunc(num1,num2):\n",
    "    if num1>num2:\n",
    "        small=num2\n",
    "    else:\n",
    "        small=num1\n",
    "        \n",
    "    for i in range (2,small+1):\n",
    "        if(num1 % i ==0 ) and (num2 % i == 0):\n",
    "            gcd=i\n",
    "    print(\"GCD of number:{}\".format(gcd))\n",
    "gcdFunc(num1,num2)"
   ]
  },
  {
   "cell_type": "code",
   "execution_count": null,
   "id": "af43b22e",
   "metadata": {},
   "outputs": [],
   "source": []
  },
  {
   "cell_type": "code",
   "execution_count": null,
   "id": "de25dcb7",
   "metadata": {},
   "outputs": [],
   "source": []
  }
 ],
 "metadata": {
  "kernelspec": {
   "display_name": "Python 3 (ipykernel)",
   "language": "python",
   "name": "python3"
  },
  "language_info": {
   "codemirror_mode": {
    "name": "ipython",
    "version": 3
   },
   "file_extension": ".py",
   "mimetype": "text/x-python",
   "name": "python",
   "nbconvert_exporter": "python",
   "pygments_lexer": "ipython3",
   "version": "3.9.13"
  }
 },
 "nbformat": 4,
 "nbformat_minor": 5
}
